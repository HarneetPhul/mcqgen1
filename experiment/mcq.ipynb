{
 "cells": [
  {
   "cell_type": "code",
   "execution_count": 281,
   "metadata": {},
   "outputs": [],
   "source": [
    "import os\n",
    "import json\n",
    "import pandas as pd\n",
    "import traceback"
   ]
  },
  {
   "cell_type": "code",
   "execution_count": 158,
   "metadata": {},
   "outputs": [],
   "source": [
    "from langchain.chat_models import ChatOpenAI"
   ]
  },
  {
   "cell_type": "code",
   "execution_count": 159,
   "metadata": {},
   "outputs": [
    {
     "data": {
      "text/plain": [
       "True"
      ]
     },
     "execution_count": 159,
     "metadata": {},
     "output_type": "execute_result"
    }
   ],
   "source": [
    "from dotenv import load_dotenv\n",
    "\n",
    "load_dotenv()"
   ]
  },
  {
   "cell_type": "code",
   "execution_count": 160,
   "metadata": {},
   "outputs": [],
   "source": [
    "KEY=os.getenv(\"OPENAI_API_KEY\")"
   ]
  },
  {
   "cell_type": "code",
   "execution_count": 162,
   "metadata": {},
   "outputs": [],
   "source": [
    "llm=ChatOpenAI(openai_api_key=KEY,model_name=\"gpt-3.5-turbo\",temperature=0.5)"
   ]
  },
  {
   "cell_type": "code",
   "execution_count": 164,
   "metadata": {},
   "outputs": [],
   "source": [
    "from langchain.llms import OpenAI\n",
    "from langchain.prompts import PromptTemplate\n",
    "from langchain.chains import LLMChain\n",
    "from langchain.chains import SequentialChain\n",
    "from langchain.callbacks import get_openai_callback\n",
    "import PyPDF2\n",
    "\n"
   ]
  },
  {
   "cell_type": "code",
   "execution_count": 165,
   "metadata": {},
   "outputs": [],
   "source": [
    "RESPONSE_JSON={\n",
    "\"1\":  {\n",
    "     \"mcq\" : \"multiple choice questions\",\n",
    "     \"options\":{\n",
    "         \"a\": \"choice here\",\n",
    "         \"b\": \"choice here\",\n",
    "         \"c\": \"choice here\",\n",
    "         \"d\":  \"choice here\",\n",
    "     },\n",
    "\"correct\": \"correct answer\",\n",
    "},\n",
    "\n",
    "\"2\" :{\n",
    "     \"mcq\": \"multiple choice question\",\n",
    "     \"options\": {\n",
    "         \"a\": \"choice here\",\n",
    "         \"b\": \"choice here\",\n",
    "         \"c\": \"choice here\",\n",
    "         \"d\":  \"choice here\",\n",
    "         },\n",
    "\n",
    "    \"correct\": \"correct answer\",\n",
    "\n",
    "     },\n",
    "\n",
    "\n",
    "\"3\" :{\n",
    "     \"mcq\": \"multiple choice question\",\n",
    "     \"options\": {\n",
    "         \"a\": \"choice here\",\n",
    "         \"b\": \"choice here\",\n",
    "         \"c\": \"choice here\",\n",
    "         \"d\":  \"choice here\",\n",
    "         },\n",
    "\n",
    "    \"correct\": \"correct answer\",\n",
    "\n",
    "     },\n",
    "\n",
    "\n",
    "\"4\" :{\n",
    "     \"mcq\": \"multiple choice question\",\n",
    "     \"options\": {\n",
    "         \"a\": \"choice here\",\n",
    "         \"b\": \"choice here\",\n",
    "         \"c\": \"choice here\",\n",
    "         \"d\":  \"choice here\",\n",
    "         },\n",
    "\n",
    "    \"correct\": \"correct answer\",\n",
    "\n",
    "     },\n",
    "\n",
    "\n",
    "\"4\" :{\n",
    "     \"mcq\": \"multiple choice question\",\n",
    "     \"options\": {\n",
    "         \"a\": \"choice here\",\n",
    "         \"b\": \"choice here\",\n",
    "         \"c\": \"choice here\",\n",
    "         \"d\":  \"choice here\",\n",
    "         },\n",
    "\n",
    "    \"correct\": \"correct answer\",\n",
    "\n",
    "     },\n",
    "\n",
    "}"
   ]
  },
  {
   "cell_type": "code",
   "execution_count": 166,
   "metadata": {},
   "outputs": [],
   "source": [
    "TEMPLATE = \"\"\"\n",
    "Text:{text}\n",
    "you are an expert MCQ maker. Given the above text, it is your job to \\\n",
    " \n",
    "create a quiz of {number} multiple choice questions for {subject} students in {tone} tone.\n",
    "Make sure the questions are not repeated and check all the questions to be conforming the text as well.\n",
    "Make sure to format your response RESPONSE_JSON below and use it as a guide. \\\n",
    "Ensure to make {number} MCQs\n",
    "### RESPONSE_JSON\n",
    "{response_json}\n",
    "\n",
    "\n",
    "\n",
    "\n",
    "\"\"\""
   ]
  },
  {
   "cell_type": "code",
   "execution_count": 167,
   "metadata": {},
   "outputs": [],
   "source": [
    "quiz_generation_prompt = PromptTemplate(\n",
    "input_variables = [\"text\",\"number\",\"subject\",\"tone\",\"response_json\"],\n",
    "template=TEMPLATE\n",
    ")"
   ]
  },
  {
   "cell_type": "code",
   "execution_count": 168,
   "metadata": {},
   "outputs": [],
   "source": [
    "quiz_chain = LLMChain(llm=llm, prompt=quiz_generation_prompt, output_key=\"quiz\", verbose=True)"
   ]
  },
  {
   "cell_type": "code",
   "execution_count": 169,
   "metadata": {},
   "outputs": [],
   "source": [
    "TEMPLATE2=\"\"\"\n",
    "You are an expert english grammarian and writer. Given a Multiple Choice Quiz for {subject} students.\\\n",
    "You need to evaluate the complexity of the question amd give a complete analysis of the quiz. Only use at max 50 words for complexity \\\n",
    "if the quiz is not at per with the cognitive and analytical abilities of the students,\\\n",
    "update the quiz questions which needs to be changed and change and change the tone such that it perfectly fits the student abilities\n",
    "Quiz_MCQs:\n",
    "{quiz} \n",
    "\n",
    "\n",
    "Check from an expert English writer of the above quiz:\n",
    "\"\"\""
   ]
  },
  {
   "cell_type": "code",
   "execution_count": 170,
   "metadata": {},
   "outputs": [],
   "source": [
    "quiz_evaluation_prompt=PromptTemplate(input_variables=[\"subject\",\"quiz\"], template=TEMPLATE)"
   ]
  },
  {
   "cell_type": "code",
   "execution_count": 171,
   "metadata": {},
   "outputs": [],
   "source": [
    "review_chain=LLMChain(llm=llm, prompt=quiz_evaluation_prompt, output_key=\"review\", verbose=True)"
   ]
  },
  {
   "cell_type": "code",
   "execution_count": 172,
   "metadata": {},
   "outputs": [],
   "source": [
    "generate_evaluate_chain=SequentialChain(chains=[quiz_chain, review_chain], input_variables=[\"text\",\"number\",\"subject\",\"tone\",\"response_json\"], output_variables=[\"quiz\", \"review\"], verbose=True,)"
   ]
  },
  {
   "cell_type": "code",
   "execution_count": 205,
   "metadata": {},
   "outputs": [],
   "source": [
    "file_path=r\"C:\\Users\\msing\\mcqgen1\\data.txt\""
   ]
  },
  {
   "cell_type": "code",
   "execution_count": 206,
   "metadata": {},
   "outputs": [
    {
     "data": {
      "text/plain": [
       "'C:\\\\Users\\\\msing\\\\mcqgen1\\\\data.txt'"
      ]
     },
     "execution_count": 206,
     "metadata": {},
     "output_type": "execute_result"
    }
   ],
   "source": [
    "file_path"
   ]
  },
  {
   "cell_type": "code",
   "execution_count": 204,
   "metadata": {},
   "outputs": [],
   "source": [
    "with open(file_path, 'r') as file:\n",
    " TEXT = file.read()"
   ]
  },
  {
   "cell_type": "code",
   "execution_count": 207,
   "metadata": {},
   "outputs": [
    {
     "name": "stdout",
     "output_type": "stream",
     "text": [
      "As a scientific endeavor, machine learning grew out of the quest for artificial intelligence (AI). \n",
      "In the early days of AI as an academic discipline, some researchers were interested in having machines learn from data. \n",
      "They attempted to approach the problem with various symbolic methods, as well as what were then termed \"neural networks\"; \n",
      "these were mostly perceptrons and other models that were later found to be reinventions of the generalized linear models of statistics.\n",
      "Probabilistic reasoning was also employed, especially in automated medical diagnosis. However, an increasing emphasis on the logical, \n",
      "knowledge-based approach caused a rift between AI and machine learning. Probabilistic systems were plagued by theoretical and practical problems of data acquisition and \n",
      "representation. By 1980, expert systems had come to dominate AI, and statistics was out of favor.Work on symbolic/knowledge-based learning did continue within AI, \n",
      "leading to inductive logic programming(ILP), but the more statistical line of research was now outside the field of AI proper, \n",
      "in pattern recognition and information retrieval.755  Neural networks research had been abandoned \n",
      "by AI and computer science around the same time. This line, too, was continued outside the AI/CS field, as \"connectionism\"\n"
     ]
    }
   ],
   "source": [
    "print(TEXT)"
   ]
  },
  {
   "cell_type": "code",
   "execution_count": 208,
   "metadata": {},
   "outputs": [
    {
     "data": {
      "text/plain": [
       "'{\"1\": {\"mcq\": \"multiple choice questions\", \"options\": {\"a\": \"choice here\", \"b\": \"choice here\", \"c\": \"choice here\", \"d\": \"choice here\"}, \"correct\": \"correct answer\"}, \"2\": {\"mcq\": \"multiple choice question\", \"options\": {\"a\": \"choice here\", \"b\": \"choice here\", \"c\": \"choice here\", \"d\": \"choice here\"}, \"correct\": \"correct answer\"}, \"3\": {\"mcq\": \"multiple choice question\", \"options\": {\"a\": \"choice here\", \"b\": \"choice here\", \"c\": \"choice here\", \"d\": \"choice here\"}, \"correct\": \"correct answer\"}, \"4\": {\"mcq\": \"multiple choice question\", \"options\": {\"a\": \"choice here\", \"b\": \"choice here\", \"c\": \"choice here\", \"d\": \"choice here\"}, \"correct\": \"correct answer\"}}'"
      ]
     },
     "execution_count": 208,
     "metadata": {},
     "output_type": "execute_result"
    }
   ],
   "source": [
    "# Serialize the python dictionary into a JSON-formatted string\n",
    "json.dumps(RESPONSE_JSON)"
   ]
  },
  {
   "cell_type": "code",
   "execution_count": 213,
   "metadata": {},
   "outputs": [],
   "source": [
    "NUMBER=5\n",
    "SUBJECT=\"machine learning\"\n",
    "TONE=\"simple\""
   ]
  },
  {
   "cell_type": "code",
   "execution_count": 214,
   "metadata": {},
   "outputs": [
    {
     "name": "stdout",
     "output_type": "stream",
     "text": [
      "\n",
      "\n",
      "\u001b[1m> Entering new SequentialChain chain...\u001b[0m\n",
      "\n",
      "\n",
      "\u001b[1m> Entering new LLMChain chain...\u001b[0m\n",
      "Prompt after formatting:\n",
      "\u001b[32;1m\u001b[1;3m\n",
      "Text:As a scientific endeavor, machine learning grew out of the quest for artificial intelligence (AI). \n",
      "In the early days of AI as an academic discipline, some researchers were interested in having machines learn from data. \n",
      "They attempted to approach the problem with various symbolic methods, as well as what were then termed \"neural networks\"; \n",
      "these were mostly perceptrons and other models that were later found to be reinventions of the generalized linear models of statistics.\n",
      "Probabilistic reasoning was also employed, especially in automated medical diagnosis. However, an increasing emphasis on the logical, \n",
      "knowledge-based approach caused a rift between AI and machine learning. Probabilistic systems were plagued by theoretical and practical problems of data acquisition and \n",
      "representation. By 1980, expert systems had come to dominate AI, and statistics was out of favor.Work on symbolic/knowledge-based learning did continue within AI, \n",
      "leading to inductive logic programming(ILP), but the more statistical line of research was now outside the field of AI proper, \n",
      "in pattern recognition and information retrieval.755  Neural networks research had been abandoned \n",
      "by AI and computer science around the same time. This line, too, was continued outside the AI/CS field, as \"connectionism\"\n",
      "you are an expert MCQ maker. Given the above text, it is your job to  \n",
      "create a quiz of 5 multiple choice questions for machine learning students in simple tone.\n",
      "Make sure the questions are not repeated and check all the questions to be conforming the text as well.\n",
      "Make sure to format your response RESPONSE_JSON below and use it as a guide. Ensure to make 5 MCQs\n",
      "### RESPONSE_JSON\n",
      "{\"1\": {\"mcq\": \"multiple choice questions\", \"options\": {\"a\": \"choice here\", \"b\": \"choice here\", \"c\": \"choice here\", \"d\": \"choice here\"}, \"correct\": \"correct answer\"}, \"2\": {\"mcq\": \"multiple choice question\", \"options\": {\"a\": \"choice here\", \"b\": \"choice here\", \"c\": \"choice here\", \"d\": \"choice here\"}, \"correct\": \"correct answer\"}, \"3\": {\"mcq\": \"multiple choice question\", \"options\": {\"a\": \"choice here\", \"b\": \"choice here\", \"c\": \"choice here\", \"d\": \"choice here\"}, \"correct\": \"correct answer\"}, \"4\": {\"mcq\": \"multiple choice question\", \"options\": {\"a\": \"choice here\", \"b\": \"choice here\", \"c\": \"choice here\", \"d\": \"choice here\"}, \"correct\": \"correct answer\"}}\n",
      "\n",
      "\n",
      "\n",
      "\n",
      "\u001b[0m\n",
      "\n",
      "\u001b[1m> Finished chain.\u001b[0m\n",
      "\n",
      "\n",
      "\u001b[1m> Entering new LLMChain chain...\u001b[0m\n",
      "Prompt after formatting:\n",
      "\u001b[32;1m\u001b[1;3m\n",
      "Text:As a scientific endeavor, machine learning grew out of the quest for artificial intelligence (AI). \n",
      "In the early days of AI as an academic discipline, some researchers were interested in having machines learn from data. \n",
      "They attempted to approach the problem with various symbolic methods, as well as what were then termed \"neural networks\"; \n",
      "these were mostly perceptrons and other models that were later found to be reinventions of the generalized linear models of statistics.\n",
      "Probabilistic reasoning was also employed, especially in automated medical diagnosis. However, an increasing emphasis on the logical, \n",
      "knowledge-based approach caused a rift between AI and machine learning. Probabilistic systems were plagued by theoretical and practical problems of data acquisition and \n",
      "representation. By 1980, expert systems had come to dominate AI, and statistics was out of favor.Work on symbolic/knowledge-based learning did continue within AI, \n",
      "leading to inductive logic programming(ILP), but the more statistical line of research was now outside the field of AI proper, \n",
      "in pattern recognition and information retrieval.755  Neural networks research had been abandoned \n",
      "by AI and computer science around the same time. This line, too, was continued outside the AI/CS field, as \"connectionism\"\n",
      "you are an expert MCQ maker. Given the above text, it is your job to  \n",
      "create a quiz of 5 multiple choice questions for machine learning students in simple tone.\n",
      "Make sure the questions are not repeated and check all the questions to be conforming the text as well.\n",
      "Make sure to format your response RESPONSE_JSON below and use it as a guide. Ensure to make 5 MCQs\n",
      "### RESPONSE_JSON\n",
      "{\"1\": {\"mcq\": \"multiple choice questions\", \"options\": {\"a\": \"choice here\", \"b\": \"choice here\", \"c\": \"choice here\", \"d\": \"choice here\"}, \"correct\": \"correct answer\"}, \"2\": {\"mcq\": \"multiple choice question\", \"options\": {\"a\": \"choice here\", \"b\": \"choice here\", \"c\": \"choice here\", \"d\": \"choice here\"}, \"correct\": \"correct answer\"}, \"3\": {\"mcq\": \"multiple choice question\", \"options\": {\"a\": \"choice here\", \"b\": \"choice here\", \"c\": \"choice here\", \"d\": \"choice here\"}, \"correct\": \"correct answer\"}, \"4\": {\"mcq\": \"multiple choice question\", \"options\": {\"a\": \"choice here\", \"b\": \"choice here\", \"c\": \"choice here\", \"d\": \"choice here\"}, \"correct\": \"correct answer\"}}\n",
      "\n",
      "\n",
      "\n",
      "\n",
      "\u001b[0m\n",
      "\n",
      "\u001b[1m> Finished chain.\u001b[0m\n",
      "\n",
      "\u001b[1m> Finished chain.\u001b[0m\n"
     ]
    }
   ],
   "source": [
    "#https://python.langchain.com/docs/modules/model_io/llms/token_usage_tracking\n",
    "\n",
    "# How to setup Token Usage tracking in Langchain\n",
    "with get_openai_callback() as cb:\n",
    "    response=generate_evaluate_chain(\n",
    "    {\n",
    "      \"text\": TEXT,\n",
    "       \"number\": NUMBER,\n",
    "       \"subject\": SUBJECT,\n",
    "       \"tone\": TONE,\n",
    "       \"response_json\": json.dumps(RESPONSE_JSON)\n",
    "\n",
    "    }\n",
    "    )\n"
   ]
  },
  {
   "cell_type": "code",
   "execution_count": 210,
   "metadata": {},
   "outputs": [
    {
     "name": "stdout",
     "output_type": "stream",
     "text": [
      "Total Tokens: 1821\n",
      "Prompt Tokens:1096\n",
      "Completion Tokens:725\n",
      "Total Cost:0.0030940000000000004\n"
     ]
    }
   ],
   "source": [
    "print(f\"Total Tokens: {cb.total_tokens}\")\n",
    "print(f\"Prompt Tokens:{cb.prompt_tokens}\")\n",
    "print(f\"Completion Tokens:{cb.completion_tokens}\")\n",
    "print(f\"Total Cost:{cb.total_cost}\")"
   ]
  },
  {
   "cell_type": "code",
   "execution_count": 217,
   "metadata": {},
   "outputs": [
    {
     "data": {
      "text/plain": [
       "{'text': 'As a scientific endeavor, machine learning grew out of the quest for artificial intelligence (AI). \\nIn the early days of AI as an academic discipline, some researchers were interested in having machines learn from data. \\nThey attempted to approach the problem with various symbolic methods, as well as what were then termed \"neural networks\"; \\nthese were mostly perceptrons and other models that were later found to be reinventions of the generalized linear models of statistics.\\nProbabilistic reasoning was also employed, especially in automated medical diagnosis.\\u200aHowever, an increasing emphasis on the logical, \\nknowledge-based approach caused a rift between AI and machine learning. Probabilistic systems were plagued by theoretical and practical problems of data acquisition and \\nrepresentation. By 1980, expert systems had come to dominate AI, and statistics was out of favor.Work on symbolic/knowledge-based learning did continue within AI, \\nleading to inductive logic programming(ILP), but the more statistical line of research was now outside the field of AI proper, \\nin pattern recognition and information retrieval.755\\u200a Neural networks research had been abandoned \\nby AI and computer science around the same time. This line, too, was continued outside the AI/CS field, as \"connectionism\"',\n",
       " 'number': 5,\n",
       " 'subject': 'machine learning',\n",
       " 'tone': 'simple',\n",
       " 'response_json': '{\"1\": {\"mcq\": \"multiple choice questions\", \"options\": {\"a\": \"choice here\", \"b\": \"choice here\", \"c\": \"choice here\", \"d\": \"choice here\"}, \"correct\": \"correct answer\"}, \"2\": {\"mcq\": \"multiple choice question\", \"options\": {\"a\": \"choice here\", \"b\": \"choice here\", \"c\": \"choice here\", \"d\": \"choice here\"}, \"correct\": \"correct answer\"}, \"3\": {\"mcq\": \"multiple choice question\", \"options\": {\"a\": \"choice here\", \"b\": \"choice here\", \"c\": \"choice here\", \"d\": \"choice here\"}, \"correct\": \"correct answer\"}, \"4\": {\"mcq\": \"multiple choice question\", \"options\": {\"a\": \"choice here\", \"b\": \"choice here\", \"c\": \"choice here\", \"d\": \"choice here\"}, \"correct\": \"correct answer\"}}',\n",
       " 'quiz': '### RESPONSE_JSON\\n{\"1\": {\"mcq\": \"What was the early focus of some researchers in AI as an academic discipline?\", \"options\": {\"a\": \"Having machines learn from data\", \"b\": \"Creating expert systems\", \"c\": \"Developing neural networks\", \"d\": \"Using symbolic methods\"}, \"correct\": \"a\"}, \\n\"2\": {\"mcq\": \"What caused a rift between AI and machine learning?\", \"options\": {\"a\": \"Probabilistic reasoning\", \"b\": \"Logical, knowledge-based approach\", \"c\": \"Symbolic methods\", \"d\": \"Generalized linear models\"}, \"correct\": \"b\"}, \\n\"3\": {\"mcq\": \"Which research line was continued outside the AI/CS field as \\'connectionism\\'?\", \"options\": {\"a\": \"Expert systems\", \"b\": \"Inductive logic programming\", \"c\": \"Neural networks\", \"d\": \"Symbolic methods\"}, \"correct\": \"c\"}, \\n\"4\": {\"mcq\": \"What dominated AI by 1980, pushing statistics out of favor?\", \"options\": {\"a\": \"Inductive logic programming\", \"b\": \"Neural networks\", \"c\": \"Expert systems\", \"d\": \"Pattern recognition\"}, \"correct\": \"c\"}, \\n\"5\": {\"mcq\": \"Which method was plagued by theoretical and practical problems of data acquisition and representation?\", \"options\": {\"a\": \"Probabilistic reasoning\", \"b\": \"Symbolic methods\", \"c\": \"Neural networks\", \"d\": \"Generalized linear models\"}, \"correct\": \"a\"}}',\n",
       " 'review': '### RESPONSE_JSON\\n{\"1\": {\"mcq\": \"What was the early focus of some researchers in AI in terms of having machines learn from data?\", \"options\": {\"a\": \"Symbolic methods\", \"b\": \"Neural networks\", \"c\": \"Both symbolic methods and neural networks\", \"d\": \"Expert systems\"}, \"correct\": \"c\"}, \\n\"2\": {\"mcq\": \"Which approach caused a rift between AI and machine learning due to an increasing emphasis on logical, knowledge-based methods?\", \"options\": {\"a\": \"Probabilistic reasoning\", \"b\": \"Symbolic/knowledge-based learning\", \"c\": \"Inductive logic programming\", \"d\": \"Neural networks\"}, \"correct\": \"a\"}, \\n\"3\": {\"mcq\": \"What type of systems were plagued by theoretical and practical problems of data acquisition and representation in the early days of AI?\", \"options\": {\"a\": \"Expert systems\", \"b\": \"Probabilistic systems\", \"c\": \"Neural networks\", \"d\": \"Symbolic methods\"}, \"correct\": \"b\"}, \\n\"4\": {\"mcq\": \"By 1980, which approach had come to dominate AI, causing statistics to be out of favor?\", \"options\": {\"a\": \"Inductive logic programming\", \"b\": \"Pattern recognition\", \"c\": \"Probabilistic reasoning\", \"d\": \"Expert systems\"}, \"correct\": \"d\"},\\n\"5\": {\"mcq\": \"Which line of research was continued outside the field of AI proper, in pattern recognition and information retrieval?\", \"options\": {\"a\": \"Symbolic/knowledge-based learning\", \"b\": \"Neural networks\", \"c\": \"Inductive logic programming\", \"d\": \"Connectionism\"}, \"correct\": \"b\"}}'}"
      ]
     },
     "execution_count": 217,
     "metadata": {},
     "output_type": "execute_result"
    }
   ],
   "source": [
    "response"
   ]
  },
  {
   "cell_type": "code",
   "execution_count": 263,
   "metadata": {},
   "outputs": [],
   "source": [
    "quiz=response.get(\"quiz\")"
   ]
  },
  {
   "cell_type": "code",
   "execution_count": 264,
   "metadata": {},
   "outputs": [
    {
     "name": "stdout",
     "output_type": "stream",
     "text": [
      "### RESPONSE_JSON\n",
      "{\"1\": {\"mcq\": \"What was the early focus of some researchers in AI as an academic discipline?\", \"options\": {\"a\": \"Having machines learn from data\", \"b\": \"Creating expert systems\", \"c\": \"Developing neural networks\", \"d\": \"Using symbolic methods\"}, \"correct\": \"a\"}, \n",
      "\"2\": {\"mcq\": \"What caused a rift between AI and machine learning?\", \"options\": {\"a\": \"Probabilistic reasoning\", \"b\": \"Logical, knowledge-based approach\", \"c\": \"Symbolic methods\", \"d\": \"Generalized linear models\"}, \"correct\": \"b\"}, \n",
      "\"3\": {\"mcq\": \"Which research line was continued outside the AI/CS field as 'connectionism'?\", \"options\": {\"a\": \"Expert systems\", \"b\": \"Inductive logic programming\", \"c\": \"Neural networks\", \"d\": \"Symbolic methods\"}, \"correct\": \"c\"}, \n",
      "\"4\": {\"mcq\": \"What dominated AI by 1980, pushing statistics out of favor?\", \"options\": {\"a\": \"Inductive logic programming\", \"b\": \"Neural networks\", \"c\": \"Expert systems\", \"d\": \"Pattern recognition\"}, \"correct\": \"c\"}, \n",
      "\"5\": {\"mcq\": \"Which method was plagued by theoretical and practical problems of data acquisition and representation?\", \"options\": {\"a\": \"Probabilistic reasoning\", \"b\": \"Symbolic methods\", \"c\": \"Neural networks\", \"d\": \"Generalized linear models\"}, \"correct\": \"a\"}}\n"
     ]
    }
   ],
   "source": [
    "print(quiz)"
   ]
  },
  {
   "cell_type": "code",
   "execution_count": 265,
   "metadata": {},
   "outputs": [
    {
     "name": "stdout",
     "output_type": "stream",
     "text": [
      "'### RESPONSE_JSON\\n{\"1\": {\"mcq\": \"What was the early focus of some researchers in AI as an academic discipline?\", \"options\": {\"a\": \"Having machines learn from data\", \"b\": \"Creating expert systems\", \"c\": \"Developing neural networks\", \"d\": \"Using symbolic methods\"}, \"correct\": \"a\"}, \\n\"2\": {\"mcq\": \"What caused a rift between AI and machine learning?\", \"options\": {\"a\": \"Probabilistic reasoning\", \"b\": \"Logical, knowledge-based approach\", \"c\": \"Symbolic methods\", \"d\": \"Generalized linear models\"}, \"correct\": \"b\"}, \\n\"3\": {\"mcq\": \"Which research line was continued outside the AI/CS field as \\'connectionism\\'?\", \"options\": {\"a\": \"Expert systems\", \"b\": \"Inductive logic programming\", \"c\": \"Neural networks\", \"d\": \"Symbolic methods\"}, \"correct\": \"c\"}, \\n\"4\": {\"mcq\": \"What dominated AI by 1980, pushing statistics out of favor?\", \"options\": {\"a\": \"Inductive logic programming\", \"b\": \"Neural networks\", \"c\": \"Expert systems\", \"d\": \"Pattern recognition\"}, \"correct\": \"c\"}, \\n\"5\": {\"mcq\": \"Which method was plagued by theoretical and practical problems of data acquisition and representation?\", \"options\": {\"a\": \"Probabilistic reasoning\", \"b\": \"Symbolic methods\", \"c\": \"Neural networks\", \"d\": \"Generalized linear models\"}, \"correct\": \"a\"}}'\n"
     ]
    }
   ],
   "source": [
    "print(repr(quiz))"
   ]
  },
  {
   "cell_type": "code",
   "execution_count": 266,
   "metadata": {},
   "outputs": [],
   "source": [
    "quiz=quiz.strip()  # Removes leading and trailing whitespace or special characters"
   ]
  },
  {
   "cell_type": "code",
   "execution_count": 269,
   "metadata": {},
   "outputs": [],
   "source": [
    "#quiz_data = json.loads(quiz)"
   ]
  },
  {
   "cell_type": "code",
   "execution_count": null,
   "metadata": {},
   "outputs": [],
   "source": [
    "#json.loads(quiz)"
   ]
  },
  {
   "cell_type": "code",
   "execution_count": null,
   "metadata": {},
   "outputs": [],
   "source": []
  },
  {
   "cell_type": "code",
   "execution_count": 270,
   "metadata": {},
   "outputs": [
    {
     "name": "stdout",
     "output_type": "stream",
     "text": [
      "Original quiz string: '### RESPONSE_JSON\\n{\"1\": {\"mcq\": \"What was the early focus of some researchers in AI as an academic discipline?\", \"options\": {\"a\": \"Having machines learn from data\", \"b\": \"Creating expert systems\", \"c\": \"Developing neural networks\", \"d\": \"Using symbolic methods\"}, \"correct\": \"a\"}, \\n\"2\": {\"mcq\": \"What caused a rift between AI and machine learning?\", \"options\": {\"a\": \"Probabilistic reasoning\", \"b\": \"Logical, knowledge-based approach\", \"c\": \"Symbolic methods\", \"d\": \"Generalized linear models\"}, \"correct\": \"b\"}, \\n\"3\": {\"mcq\": \"Which research line was continued outside the AI/CS field as \\'connectionism\\'?\", \"options\": {\"a\": \"Expert systems\", \"b\": \"Inductive logic programming\", \"c\": \"Neural networks\", \"d\": \"Symbolic methods\"}, \"correct\": \"c\"}, \\n\"4\": {\"mcq\": \"What dominated AI by 1980, pushing statistics out of favor?\", \"options\": {\"a\": \"Inductive logic programming\", \"b\": \"Neural networks\", \"c\": \"Expert systems\", \"d\": \"Pattern recognition\"}, \"correct\": \"c\"}, \\n\"5\": {\"mcq\": \"Which method was plagued by theoretical and practical problems of data acquisition and representation?\", \"options\": {\"a\": \"Probabilistic reasoning\", \"b\": \"Symbolic methods\", \"c\": \"Neural networks\", \"d\": \"Generalized linear models\"}, \"correct\": \"a\"}}'\n",
      "Cleaned quiz string: '{\"1\": {\"mcq\": \"What was the early focus of some researchers in AI as an academic discipline?\", \"options\": {\"a\": \"Having machines learn from data\", \"b\": \"Creating expert systems\", \"c\": \"Developing neural networks\", \"d\": \"Using symbolic methods\"}, \"correct\": \"a\"}, \\n\"2\": {\"mcq\": \"What caused a rift between AI and machine learning?\", \"options\": {\"a\": \"Probabilistic reasoning\", \"b\": \"Logical, knowledge-based approach\", \"c\": \"Symbolic methods\", \"d\": \"Generalized linear models\"}, \"correct\": \"b\"}, \\n\"3\": {\"mcq\": \"Which research line was continued outside the AI/CS field as \\'connectionism\\'?\", \"options\": {\"a\": \"Expert systems\", \"b\": \"Inductive logic programming\", \"c\": \"Neural networks\", \"d\": \"Symbolic methods\"}, \"correct\": \"c\"}, \\n\"4\": {\"mcq\": \"What dominated AI by 1980, pushing statistics out of favor?\", \"options\": {\"a\": \"Inductive logic programming\", \"b\": \"Neural networks\", \"c\": \"Expert systems\", \"d\": \"Pattern recognition\"}, \"correct\": \"c\"}, \\n\"5\": {\"mcq\": \"Which method was plagued by theoretical and practical problems of data acquisition and representation?\", \"options\": {\"a\": \"Probabilistic reasoning\", \"b\": \"Symbolic methods\", \"c\": \"Neural networks\", \"d\": \"Generalized linear models\"}, \"correct\": \"a\"}}'\n",
      "Parsed JSON data: {'1': {'mcq': 'What was the early focus of some researchers in AI as an academic discipline?', 'options': {'a': 'Having machines learn from data', 'b': 'Creating expert systems', 'c': 'Developing neural networks', 'd': 'Using symbolic methods'}, 'correct': 'a'}, '2': {'mcq': 'What caused a rift between AI and machine learning?', 'options': {'a': 'Probabilistic reasoning', 'b': 'Logical, knowledge-based approach', 'c': 'Symbolic methods', 'd': 'Generalized linear models'}, 'correct': 'b'}, '3': {'mcq': \"Which research line was continued outside the AI/CS field as 'connectionism'?\", 'options': {'a': 'Expert systems', 'b': 'Inductive logic programming', 'c': 'Neural networks', 'd': 'Symbolic methods'}, 'correct': 'c'}, '4': {'mcq': 'What dominated AI by 1980, pushing statistics out of favor?', 'options': {'a': 'Inductive logic programming', 'b': 'Neural networks', 'c': 'Expert systems', 'd': 'Pattern recognition'}, 'correct': 'c'}, '5': {'mcq': 'Which method was plagued by theoretical and practical problems of data acquisition and representation?', 'options': {'a': 'Probabilistic reasoning', 'b': 'Symbolic methods', 'c': 'Neural networks', 'd': 'Generalized linear models'}, 'correct': 'a'}}\n"
     ]
    }
   ],
   "source": [
    "import json\n",
    "\n",
    "# Check the original quiz string\n",
    "print(\"Original quiz string:\", repr(quiz))\n",
    "\n",
    "# Clean the string by removing '### RESPONSE_JSON\\n'\n",
    "cleaned_quiz = quiz.replace('### RESPONSE_JSON\\n', '').strip()\n",
    "\n",
    "# Print the cleaned string for verification\n",
    "print(\"Cleaned quiz string:\", repr(cleaned_quiz))\n",
    "\n",
    "# Load the JSON\n",
    "try:\n",
    "    quiz_data = json.loads(cleaned_quiz)\n",
    "    print(\"Parsed JSON data:\", quiz_data)\n",
    "except json.JSONDecodeError as e:\n",
    "    print(f\"JSONDecodeError: {e}\")"
   ]
  },
  {
   "cell_type": "code",
   "execution_count": 271,
   "metadata": {},
   "outputs": [
    {
     "data": {
      "text/plain": [
       "{'1': {'mcq': 'What was the early focus of some researchers in AI as an academic discipline?',\n",
       "  'options': {'a': 'Having machines learn from data',\n",
       "   'b': 'Creating expert systems',\n",
       "   'c': 'Developing neural networks',\n",
       "   'd': 'Using symbolic methods'},\n",
       "  'correct': 'a'},\n",
       " '2': {'mcq': 'What caused a rift between AI and machine learning?',\n",
       "  'options': {'a': 'Probabilistic reasoning',\n",
       "   'b': 'Logical, knowledge-based approach',\n",
       "   'c': 'Symbolic methods',\n",
       "   'd': 'Generalized linear models'},\n",
       "  'correct': 'b'},\n",
       " '3': {'mcq': \"Which research line was continued outside the AI/CS field as 'connectionism'?\",\n",
       "  'options': {'a': 'Expert systems',\n",
       "   'b': 'Inductive logic programming',\n",
       "   'c': 'Neural networks',\n",
       "   'd': 'Symbolic methods'},\n",
       "  'correct': 'c'},\n",
       " '4': {'mcq': 'What dominated AI by 1980, pushing statistics out of favor?',\n",
       "  'options': {'a': 'Inductive logic programming',\n",
       "   'b': 'Neural networks',\n",
       "   'c': 'Expert systems',\n",
       "   'd': 'Pattern recognition'},\n",
       "  'correct': 'c'},\n",
       " '5': {'mcq': 'Which method was plagued by theoretical and practical problems of data acquisition and representation?',\n",
       "  'options': {'a': 'Probabilistic reasoning',\n",
       "   'b': 'Symbolic methods',\n",
       "   'c': 'Neural networks',\n",
       "   'd': 'Generalized linear models'},\n",
       "  'correct': 'a'}}"
      ]
     },
     "execution_count": 271,
     "metadata": {},
     "output_type": "execute_result"
    }
   ],
   "source": [
    "json.loads(cleaned_quiz)"
   ]
  },
  {
   "cell_type": "code",
   "execution_count": 229,
   "metadata": {},
   "outputs": [
    {
     "name": "stdout",
     "output_type": "stream",
     "text": [
      "<class 'str'>\n"
     ]
    }
   ],
   "source": [
    "print(type(cleaned_quiz))"
   ]
  },
  {
   "cell_type": "code",
   "execution_count": 272,
   "metadata": {},
   "outputs": [
    {
     "name": "stdout",
     "output_type": "stream",
     "text": [
      "Type of cleaned_quiz: <class 'dict'>\n",
      "Contents of cleaned_quiz: {'1': {'mcq': 'What was the early focus of some researchers in AI as an academic discipline?', 'options': {'a': 'Having machines learn from data', 'b': 'Creating expert systems', 'c': 'Developing neural networks', 'd': 'Using symbolic methods'}, 'correct': 'a'}, '2': {'mcq': 'What caused a rift between AI and machine learning?', 'options': {'a': 'Probabilistic reasoning', 'b': 'Logical, knowledge-based approach', 'c': 'Symbolic methods', 'd': 'Generalized linear models'}, 'correct': 'b'}, '3': {'mcq': \"Which research line was continued outside the AI/CS field as 'connectionism'?\", 'options': {'a': 'Expert systems', 'b': 'Inductive logic programming', 'c': 'Neural networks', 'd': 'Symbolic methods'}, 'correct': 'c'}, '4': {'mcq': 'What dominated AI by 1980, pushing statistics out of favor?', 'options': {'a': 'Inductive logic programming', 'b': 'Neural networks', 'c': 'Expert systems', 'd': 'Pattern recognition'}, 'correct': 'c'}, '5': {'mcq': 'Which method was plagued by theoretical and practical problems of data acquisition and representation?', 'options': {'a': 'Probabilistic reasoning', 'b': 'Symbolic methods', 'c': 'Neural networks', 'd': 'Generalized linear models'}, 'correct': 'a'}}\n"
     ]
    }
   ],
   "source": [
    "\n",
    "import json\n",
    "# Parse the cleaned JSON string\n",
    "cleaned_quiz_str = quiz.replace(\"### RESPONSE_JSON\\n\", \"\")  # Remove the prefix\n",
    "\n",
    "cleaned_quiz = json.loads(cleaned_quiz_str)\n",
    "\n",
    "# Check the type of cleaned_quiz\n",
    "print(\"Type of cleaned_quiz:\", type(cleaned_quiz))\n",
    "\n",
    "# Print the cleaned_quiz to see its content\n",
    "print(\"Contents of cleaned_quiz:\", cleaned_quiz)"
   ]
  },
  {
   "cell_type": "code",
   "execution_count": 273,
   "metadata": {},
   "outputs": [],
   "source": [
    "# Lets try to create a dataframe by using the above dictionary:\n",
    "\n",
    "quiz_table_data =[]\n",
    "for key,value in cleaned_quiz.items():\n",
    "    mcq= value[\"mcq\"]\n",
    "options = \"|\".join(\n",
    "[\n",
    "   f\"{option}:{option_value}\"\n",
    "    for option, option_value in value[\"options\"].items()\n",
    "    ]\n",
    ")\n",
    "correct = value[\"correct\"]\n",
    "quiz_table_data.append({\"MCQ\":mcq, \"choices\":options, \"Correct\":correct})\n"
   ]
  },
  {
   "cell_type": "code",
   "execution_count": 274,
   "metadata": {},
   "outputs": [
    {
     "data": {
      "text/plain": [
       "[{'MCQ': 'Which method was plagued by theoretical and practical problems of data acquisition and representation?',\n",
       "  'choices': 'a:Probabilistic reasoning|b:Symbolic methods|c:Neural networks|d:Generalized linear models',\n",
       "  'Correct': 'a'}]"
      ]
     },
     "execution_count": 274,
     "metadata": {},
     "output_type": "execute_result"
    }
   ],
   "source": [
    "quiz_table_data"
   ]
  },
  {
   "cell_type": "code",
   "execution_count": 276,
   "metadata": {},
   "outputs": [
    {
     "name": "stdout",
     "output_type": "stream",
     "text": [
      "Cleaned Quiz Data: {'1': {'mcq': 'What was the early focus of some researchers in AI as an academic discipline?', 'options': {'a': 'Having machines learn from data', 'b': 'Creating expert systems', 'c': 'Developing neural networks', 'd': 'Using symbolic methods'}, 'correct': 'a'}, '2': {'mcq': 'What caused a rift between AI and machine learning?', 'options': {'a': 'Probabilistic reasoning', 'b': 'Logical, knowledge-based approach', 'c': 'Symbolic methods', 'd': 'Generalized linear models'}, 'correct': 'b'}, '3': {'mcq': \"Which research line was continued outside the AI/CS field as 'connectionism'?\", 'options': {'a': 'Expert systems', 'b': 'Inductive logic programming', 'c': 'Neural networks', 'd': 'Symbolic methods'}, 'correct': 'c'}, '4': {'mcq': 'What dominated AI by 1980, pushing statistics out of favor?', 'options': {'a': 'Inductive logic programming', 'b': 'Neural networks', 'c': 'Expert systems', 'd': 'Pattern recognition'}, 'correct': 'c'}, '5': {'mcq': 'Which method was plagued by theoretical and practical problems of data acquisition and representation?', 'options': {'a': 'Probabilistic reasoning', 'b': 'Symbolic methods', 'c': 'Neural networks', 'd': 'Generalized linear models'}, 'correct': 'a'}}\n",
      "MCQ 1: What was the early focus of some researchers in AI as an academic discipline?, Choices: a:Having machines learn from data|b:Creating expert systems|c:Developing neural networks|d:Using symbolic methods, Correct: a\n",
      "MCQ 2: What caused a rift between AI and machine learning?, Choices: a:Probabilistic reasoning|b:Logical, knowledge-based approach|c:Symbolic methods|d:Generalized linear models, Correct: b\n",
      "MCQ 3: Which research line was continued outside the AI/CS field as 'connectionism'?, Choices: a:Expert systems|b:Inductive logic programming|c:Neural networks|d:Symbolic methods, Correct: c\n",
      "MCQ 4: What dominated AI by 1980, pushing statistics out of favor?, Choices: a:Inductive logic programming|b:Neural networks|c:Expert systems|d:Pattern recognition, Correct: c\n",
      "MCQ 5: Which method was plagued by theoretical and practical problems of data acquisition and representation?, Choices: a:Probabilistic reasoning|b:Symbolic methods|c:Neural networks|d:Generalized linear models, Correct: a\n",
      "Quiz Table Data: [{'MCQ': 'What was the early focus of some researchers in AI as an academic discipline?', 'choices': 'a:Having machines learn from data|b:Creating expert systems|c:Developing neural networks|d:Using symbolic methods', 'Correct': 'a'}, {'MCQ': 'What caused a rift between AI and machine learning?', 'choices': 'a:Probabilistic reasoning|b:Logical, knowledge-based approach|c:Symbolic methods|d:Generalized linear models', 'Correct': 'b'}, {'MCQ': \"Which research line was continued outside the AI/CS field as 'connectionism'?\", 'choices': 'a:Expert systems|b:Inductive logic programming|c:Neural networks|d:Symbolic methods', 'Correct': 'c'}, {'MCQ': 'What dominated AI by 1980, pushing statistics out of favor?', 'choices': 'a:Inductive logic programming|b:Neural networks|c:Expert systems|d:Pattern recognition', 'Correct': 'c'}, {'MCQ': 'Which method was plagued by theoretical and practical problems of data acquisition and representation?', 'choices': 'a:Probabilistic reasoning|b:Symbolic methods|c:Neural networks|d:Generalized linear models', 'Correct': 'a'}]\n",
      "Total number of MCQs: 5\n"
     ]
    }
   ],
   "source": [
    "import json\n",
    "\n",
    "# Assuming you have the cleaned quiz string\n",
    "cleaned_quiz_str = quiz.replace(\"### RESPONSE_JSON\\n\", \"\")  # Clean the input string\n",
    "cleaned_quiz = json.loads(cleaned_quiz_str)  # Parse the JSON string\n",
    "\n",
    "# Debug: Check the contents of cleaned_quiz\n",
    "print(\"Cleaned Quiz Data:\", cleaned_quiz)\n",
    "\n",
    "# Check if cleaned_quiz is a dictionary\n",
    "if isinstance(cleaned_quiz, dict):\n",
    "    # Prepare the quiz table data\n",
    "    quiz_table_data = []\n",
    "    \n",
    "    for key, value in cleaned_quiz.items():\n",
    "        # Ensure that value has the expected keys\n",
    "        if \"mcq\" in value and \"options\" in value and \"correct\" in value:\n",
    "            mcq = value[\"mcq\"]\n",
    "            options = \"|\".join(\n",
    "                [f\"{option}:{option_value}\" for option, option_value in value[\"options\"].items()]\n",
    "            )\n",
    "            correct = value[\"correct\"]\n",
    "\n",
    "            # Debug: Print each MCQ and its corresponding values\n",
    "            print(f\"MCQ {key}: {mcq}, Choices: {options}, Correct: {correct}\")\n",
    "\n",
    "            # Append to the quiz table data\n",
    "            quiz_table_data.append({\"MCQ\": mcq, \"choices\": options, \"Correct\": correct})\n",
    "        else:\n",
    "            print(f\"Warning: Expected keys not found in entry {key}\")\n",
    "\n",
    "    # Print the resulting quiz_table_data\n",
    "    print(\"Quiz Table Data:\", quiz_table_data)\n",
    "    print(f\"Total number of MCQs: {len(quiz_table_data)}\")\n",
    "else:\n",
    "    print(\"Error: cleaned_quiz is not a dictionary.\")"
   ]
  },
  {
   "cell_type": "code",
   "execution_count": 277,
   "metadata": {},
   "outputs": [
    {
     "data": {
      "text/plain": [
       "[{'MCQ': 'What was the early focus of some researchers in AI as an academic discipline?',\n",
       "  'choices': 'a:Having machines learn from data|b:Creating expert systems|c:Developing neural networks|d:Using symbolic methods',\n",
       "  'Correct': 'a'},\n",
       " {'MCQ': 'What caused a rift between AI and machine learning?',\n",
       "  'choices': 'a:Probabilistic reasoning|b:Logical, knowledge-based approach|c:Symbolic methods|d:Generalized linear models',\n",
       "  'Correct': 'b'},\n",
       " {'MCQ': \"Which research line was continued outside the AI/CS field as 'connectionism'?\",\n",
       "  'choices': 'a:Expert systems|b:Inductive logic programming|c:Neural networks|d:Symbolic methods',\n",
       "  'Correct': 'c'},\n",
       " {'MCQ': 'What dominated AI by 1980, pushing statistics out of favor?',\n",
       "  'choices': 'a:Inductive logic programming|b:Neural networks|c:Expert systems|d:Pattern recognition',\n",
       "  'Correct': 'c'},\n",
       " {'MCQ': 'Which method was plagued by theoretical and practical problems of data acquisition and representation?',\n",
       "  'choices': 'a:Probabilistic reasoning|b:Symbolic methods|c:Neural networks|d:Generalized linear models',\n",
       "  'Correct': 'a'}]"
      ]
     },
     "execution_count": 277,
     "metadata": {},
     "output_type": "execute_result"
    }
   ],
   "source": [
    "quiz_table_data"
   ]
  },
  {
   "cell_type": "code",
   "execution_count": 284,
   "metadata": {},
   "outputs": [],
   "source": [
    "quiz= pd.DataFrame(quiz_table_data)"
   ]
  },
  {
   "cell_type": "code",
   "execution_count": 285,
   "metadata": {},
   "outputs": [
    {
     "data": {
      "text/html": [
       "<div>\n",
       "<style scoped>\n",
       "    .dataframe tbody tr th:only-of-type {\n",
       "        vertical-align: middle;\n",
       "    }\n",
       "\n",
       "    .dataframe tbody tr th {\n",
       "        vertical-align: top;\n",
       "    }\n",
       "\n",
       "    .dataframe thead th {\n",
       "        text-align: right;\n",
       "    }\n",
       "</style>\n",
       "<table border=\"1\" class=\"dataframe\">\n",
       "  <thead>\n",
       "    <tr style=\"text-align: right;\">\n",
       "      <th></th>\n",
       "      <th>MCQ</th>\n",
       "      <th>choices</th>\n",
       "      <th>Correct</th>\n",
       "    </tr>\n",
       "  </thead>\n",
       "  <tbody>\n",
       "    <tr>\n",
       "      <th>0</th>\n",
       "      <td>What was the early focus of some researchers i...</td>\n",
       "      <td>a:Having machines learn from data|b:Creating e...</td>\n",
       "      <td>a</td>\n",
       "    </tr>\n",
       "    <tr>\n",
       "      <th>1</th>\n",
       "      <td>What caused a rift between AI and machine lear...</td>\n",
       "      <td>a:Probabilistic reasoning|b:Logical, knowledge...</td>\n",
       "      <td>b</td>\n",
       "    </tr>\n",
       "    <tr>\n",
       "      <th>2</th>\n",
       "      <td>Which research line was continued outside the ...</td>\n",
       "      <td>a:Expert systems|b:Inductive logic programming...</td>\n",
       "      <td>c</td>\n",
       "    </tr>\n",
       "    <tr>\n",
       "      <th>3</th>\n",
       "      <td>What dominated AI by 1980, pushing statistics ...</td>\n",
       "      <td>a:Inductive logic programming|b:Neural network...</td>\n",
       "      <td>c</td>\n",
       "    </tr>\n",
       "    <tr>\n",
       "      <th>4</th>\n",
       "      <td>Which method was plagued by theoretical and pr...</td>\n",
       "      <td>a:Probabilistic reasoning|b:Symbolic methods|c...</td>\n",
       "      <td>a</td>\n",
       "    </tr>\n",
       "  </tbody>\n",
       "</table>\n",
       "</div>"
      ],
      "text/plain": [
       "                                                 MCQ  \\\n",
       "0  What was the early focus of some researchers i...   \n",
       "1  What caused a rift between AI and machine lear...   \n",
       "2  Which research line was continued outside the ...   \n",
       "3  What dominated AI by 1980, pushing statistics ...   \n",
       "4  Which method was plagued by theoretical and pr...   \n",
       "\n",
       "                                             choices Correct  \n",
       "0  a:Having machines learn from data|b:Creating e...       a  \n",
       "1  a:Probabilistic reasoning|b:Logical, knowledge...       b  \n",
       "2  a:Expert systems|b:Inductive logic programming...       c  \n",
       "3  a:Inductive logic programming|b:Neural network...       c  \n",
       "4  a:Probabilistic reasoning|b:Symbolic methods|c...       a  "
      ]
     },
     "execution_count": 285,
     "metadata": {},
     "output_type": "execute_result"
    }
   ],
   "source": [
    "quiz"
   ]
  },
  {
   "cell_type": "code",
   "execution_count": 286,
   "metadata": {},
   "outputs": [],
   "source": [
    "quiz.to_csv(\"machinelearning.csv\", index=False)"
   ]
  },
  {
   "cell_type": "code",
   "execution_count": 1,
   "metadata": {},
   "outputs": [
    {
     "ename": "SyntaxError",
     "evalue": "invalid syntax (1421987323.py, line 1)",
     "output_type": "error",
     "traceback": [
      "\u001b[1;36m  Cell \u001b[1;32mIn[1], line 1\u001b[1;36m\u001b[0m\n\u001b[1;33m    python git-filter-repo.py --path experiment/mcq.ipynb --invert-paths\u001b[0m\n\u001b[1;37m           ^\u001b[0m\n\u001b[1;31mSyntaxError\u001b[0m\u001b[1;31m:\u001b[0m invalid syntax\n"
     ]
    }
   ],
   "source": [
    "python git-filter-repo.py --path experiment/mcq.ipynb --invert-paths\n"
   ]
  },
  {
   "cell_type": "code",
   "execution_count": null,
   "metadata": {},
   "outputs": [],
   "source": []
  }
 ],
 "metadata": {
  "kernelspec": {
   "display_name": "Python 3",
   "language": "python",
   "name": "python3"
  },
  "language_info": {
   "codemirror_mode": {
    "name": "ipython",
    "version": 3
   },
   "file_extension": ".py",
   "mimetype": "text/x-python",
   "name": "python",
   "nbconvert_exporter": "python",
   "pygments_lexer": "ipython3",
   "version": "3.12.4"
  }
 },
 "nbformat": 4,
 "nbformat_minor": 2
}
